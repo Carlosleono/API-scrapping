{
 "cells": [
  {
   "cell_type": "code",
   "execution_count": 298,
   "id": "50d4572d",
   "metadata": {},
   "outputs": [],
   "source": [
    "import requests \n",
    "import json\n",
    "import os\n",
    "from dotenv import load_dotenv\n",
    "import pandas as pd\n",
    "from pandas import json_normalize\n",
    "from bs4 import BeautifulSoup as bs\n",
    "import time\n",
    "import seaborn as sns\n",
    "import matplotlib.pyplot as plt"
   ]
  },
  {
   "cell_type": "markdown",
   "id": "a154d309",
   "metadata": {},
   "source": [
    "# Are colder countries more susceptible to Covid-19?\n",
    "\n",
    "We are going to list our countries by latitude and obtain their average temperature doing web scrapping. Then, we will plot by country and by latitude to see the results"
   ]
  },
  {
   "cell_type": "markdown",
   "id": "1969cc80",
   "metadata": {},
   "source": [
    "## Function:Get cases in each country ordered by the average latitude of the country"
   ]
  },
  {
   "cell_type": "code",
   "execution_count": 336,
   "id": "7d32bc8c",
   "metadata": {},
   "outputs": [
    {
     "data": {
      "text/html": [
       "<div>\n",
       "<style scoped>\n",
       "    .dataframe tbody tr th:only-of-type {\n",
       "        vertical-align: middle;\n",
       "    }\n",
       "\n",
       "    .dataframe tbody tr th {\n",
       "        vertical-align: top;\n",
       "    }\n",
       "\n",
       "    .dataframe thead th {\n",
       "        text-align: right;\n",
       "    }\n",
       "</style>\n",
       "<table border=\"1\" class=\"dataframe\">\n",
       "  <thead>\n",
       "    <tr style=\"text-align: right;\">\n",
       "      <th></th>\n",
       "      <th>country</th>\n",
       "      <th>Lat</th>\n",
       "      <th>Long</th>\n",
       "    </tr>\n",
       "  </thead>\n",
       "  <tbody>\n",
       "    <tr>\n",
       "      <th>0</th>\n",
       "      <td>New Zealand</td>\n",
       "      <td>-40.900600</td>\n",
       "      <td>174.886000</td>\n",
       "    </tr>\n",
       "    <tr>\n",
       "      <th>1</th>\n",
       "      <td>Argentina</td>\n",
       "      <td>-38.416100</td>\n",
       "      <td>-63.616700</td>\n",
       "    </tr>\n",
       "    <tr>\n",
       "      <th>2</th>\n",
       "      <td>Chile</td>\n",
       "      <td>-35.675100</td>\n",
       "      <td>-71.543000</td>\n",
       "    </tr>\n",
       "    <tr>\n",
       "      <th>3</th>\n",
       "      <td>Uruguay</td>\n",
       "      <td>-32.522800</td>\n",
       "      <td>-55.765800</td>\n",
       "    </tr>\n",
       "    <tr>\n",
       "      <th>4</th>\n",
       "      <td>Australia</td>\n",
       "      <td>-32.106275</td>\n",
       "      <td>141.355488</td>\n",
       "    </tr>\n",
       "    <tr>\n",
       "      <th>...</th>\n",
       "      <td>...</td>\n",
       "      <td>...</td>\n",
       "      <td>...</td>\n",
       "    </tr>\n",
       "    <tr>\n",
       "      <th>182</th>\n",
       "      <td>Norway</td>\n",
       "      <td>60.472000</td>\n",
       "      <td>8.468900</td>\n",
       "    </tr>\n",
       "    <tr>\n",
       "      <th>183</th>\n",
       "      <td>Russia</td>\n",
       "      <td>61.524010</td>\n",
       "      <td>105.318756</td>\n",
       "    </tr>\n",
       "    <tr>\n",
       "      <th>184</th>\n",
       "      <td>Finland</td>\n",
       "      <td>61.924110</td>\n",
       "      <td>25.748151</td>\n",
       "    </tr>\n",
       "    <tr>\n",
       "      <th>185</th>\n",
       "      <td>Iceland</td>\n",
       "      <td>64.963100</td>\n",
       "      <td>-19.020800</td>\n",
       "    </tr>\n",
       "    <tr>\n",
       "      <th>186</th>\n",
       "      <td>Greenland</td>\n",
       "      <td>71.706900</td>\n",
       "      <td>-42.604300</td>\n",
       "    </tr>\n",
       "  </tbody>\n",
       "</table>\n",
       "<p>187 rows × 3 columns</p>\n",
       "</div>"
      ],
      "text/plain": [
       "         country        Lat        Long\n",
       "0    New Zealand -40.900600  174.886000\n",
       "1      Argentina -38.416100  -63.616700\n",
       "2          Chile -35.675100  -71.543000\n",
       "3        Uruguay -32.522800  -55.765800\n",
       "4      Australia -32.106275  141.355488\n",
       "..           ...        ...         ...\n",
       "182       Norway  60.472000    8.468900\n",
       "183       Russia  61.524010  105.318756\n",
       "184      Finland  61.924110   25.748151\n",
       "185      Iceland  64.963100  -19.020800\n",
       "186    Greenland  71.706900  -42.604300\n",
       "\n",
       "[187 rows x 3 columns]"
      ]
     },
     "execution_count": 336,
     "metadata": {},
     "output_type": "execute_result"
    }
   ],
   "source": [
    "covid_data = pd.DataFrame(pd.read_csv('../data/covid_19_clean_complete.csv')).groupby('Country/Region').mean()\n",
    "covid_data.sort_values(by='Lat', axis=0, inplace = True,)\n",
    "covid_data.drop(['Confirmed','Deaths','Recovered','Active'], axis=1, inplace=True)\n",
    "covid_data.reset_index(inplace=True)\n",
    "covid_data.rename(columns ={'Country/Region':'country'},inplace=True)\n",
    "covid_data\n"
   ]
  },
  {
   "cell_type": "code",
   "execution_count": 337,
   "id": "3f82df81",
   "metadata": {},
   "outputs": [
    {
     "data": {
      "text/html": [
       "<div>\n",
       "<style scoped>\n",
       "    .dataframe tbody tr th:only-of-type {\n",
       "        vertical-align: middle;\n",
       "    }\n",
       "\n",
       "    .dataframe tbody tr th {\n",
       "        vertical-align: top;\n",
       "    }\n",
       "\n",
       "    .dataframe thead th {\n",
       "        text-align: right;\n",
       "    }\n",
       "</style>\n",
       "<table border=\"1\" class=\"dataframe\">\n",
       "  <thead>\n",
       "    <tr style=\"text-align: right;\">\n",
       "      <th></th>\n",
       "      <th>country</th>\n",
       "      <th>Confirmed</th>\n",
       "      <th>Deaths</th>\n",
       "      <th>Recovered</th>\n",
       "      <th>Active</th>\n",
       "    </tr>\n",
       "  </thead>\n",
       "  <tbody>\n",
       "    <tr>\n",
       "      <th>0</th>\n",
       "      <td>Afghanistan</td>\n",
       "      <td>1936390</td>\n",
       "      <td>49098</td>\n",
       "      <td>798240</td>\n",
       "      <td>1089052</td>\n",
       "    </tr>\n",
       "    <tr>\n",
       "      <th>1</th>\n",
       "      <td>Albania</td>\n",
       "      <td>196702</td>\n",
       "      <td>5708</td>\n",
       "      <td>118877</td>\n",
       "      <td>72117</td>\n",
       "    </tr>\n",
       "    <tr>\n",
       "      <th>2</th>\n",
       "      <td>Algeria</td>\n",
       "      <td>1179755</td>\n",
       "      <td>77972</td>\n",
       "      <td>755897</td>\n",
       "      <td>345886</td>\n",
       "    </tr>\n",
       "    <tr>\n",
       "      <th>3</th>\n",
       "      <td>Andorra</td>\n",
       "      <td>94404</td>\n",
       "      <td>5423</td>\n",
       "      <td>69074</td>\n",
       "      <td>19907</td>\n",
       "    </tr>\n",
       "    <tr>\n",
       "      <th>4</th>\n",
       "      <td>Angola</td>\n",
       "      <td>22662</td>\n",
       "      <td>1078</td>\n",
       "      <td>6573</td>\n",
       "      <td>15011</td>\n",
       "    </tr>\n",
       "    <tr>\n",
       "      <th>...</th>\n",
       "      <td>...</td>\n",
       "      <td>...</td>\n",
       "      <td>...</td>\n",
       "      <td>...</td>\n",
       "      <td>...</td>\n",
       "    </tr>\n",
       "    <tr>\n",
       "      <th>182</th>\n",
       "      <td>West Bank and Gaza</td>\n",
       "      <td>233461</td>\n",
       "      <td>1370</td>\n",
       "      <td>61124</td>\n",
       "      <td>170967</td>\n",
       "    </tr>\n",
       "    <tr>\n",
       "      <th>183</th>\n",
       "      <td>Western Sahara</td>\n",
       "      <td>901</td>\n",
       "      <td>63</td>\n",
       "      <td>648</td>\n",
       "      <td>190</td>\n",
       "    </tr>\n",
       "    <tr>\n",
       "      <th>184</th>\n",
       "      <td>Yemen</td>\n",
       "      <td>67180</td>\n",
       "      <td>17707</td>\n",
       "      <td>23779</td>\n",
       "      <td>25694</td>\n",
       "    </tr>\n",
       "    <tr>\n",
       "      <th>185</th>\n",
       "      <td>Zambia</td>\n",
       "      <td>129421</td>\n",
       "      <td>2643</td>\n",
       "      <td>83611</td>\n",
       "      <td>43167</td>\n",
       "    </tr>\n",
       "    <tr>\n",
       "      <th>186</th>\n",
       "      <td>Zimbabwe</td>\n",
       "      <td>50794</td>\n",
       "      <td>881</td>\n",
       "      <td>12207</td>\n",
       "      <td>37706</td>\n",
       "    </tr>\n",
       "  </tbody>\n",
       "</table>\n",
       "<p>187 rows × 5 columns</p>\n",
       "</div>"
      ],
      "text/plain": [
       "                country  Confirmed  Deaths  Recovered   Active\n",
       "0           Afghanistan    1936390   49098     798240  1089052\n",
       "1               Albania     196702    5708     118877    72117\n",
       "2               Algeria    1179755   77972     755897   345886\n",
       "3               Andorra      94404    5423      69074    19907\n",
       "4                Angola      22662    1078       6573    15011\n",
       "..                  ...        ...     ...        ...      ...\n",
       "182  West Bank and Gaza     233461    1370      61124   170967\n",
       "183      Western Sahara        901      63        648      190\n",
       "184               Yemen      67180   17707      23779    25694\n",
       "185              Zambia     129421    2643      83611    43167\n",
       "186            Zimbabwe      50794     881      12207    37706\n",
       "\n",
       "[187 rows x 5 columns]"
      ]
     },
     "execution_count": 337,
     "metadata": {},
     "output_type": "execute_result"
    }
   ],
   "source": [
    "covid_data2 = pd.DataFrame(pd.read_csv('../data/covid_19_clean_complete.csv')).groupby('Country/Region').sum()\n",
    "covid_data2.reset_index(inplace=True)\n",
    "covid_data2.drop(['Lat','Long'], axis=1, inplace=True)\n",
    "covid_data2.rename(columns ={'Country/Region':'country'},inplace=True)\n",
    "covid_data2"
   ]
  },
  {
   "cell_type": "code",
   "execution_count": 339,
   "id": "98bd0dbd",
   "metadata": {},
   "outputs": [],
   "source": [
    "covid_data = pd.merge(covid_data, covid_data2, on='country')"
   ]
  },
  {
   "cell_type": "code",
   "execution_count": 341,
   "id": "34c5f42c",
   "metadata": {},
   "outputs": [
    {
     "data": {
      "text/html": [
       "<div>\n",
       "<style scoped>\n",
       "    .dataframe tbody tr th:only-of-type {\n",
       "        vertical-align: middle;\n",
       "    }\n",
       "\n",
       "    .dataframe tbody tr th {\n",
       "        vertical-align: top;\n",
       "    }\n",
       "\n",
       "    .dataframe thead th {\n",
       "        text-align: right;\n",
       "    }\n",
       "</style>\n",
       "<table border=\"1\" class=\"dataframe\">\n",
       "  <thead>\n",
       "    <tr style=\"text-align: right;\">\n",
       "      <th></th>\n",
       "      <th>country</th>\n",
       "      <th>Lat</th>\n",
       "      <th>Long</th>\n",
       "      <th>Confirmed</th>\n",
       "      <th>Deaths</th>\n",
       "      <th>Recovered</th>\n",
       "      <th>Active</th>\n",
       "    </tr>\n",
       "  </thead>\n",
       "  <tbody>\n",
       "    <tr>\n",
       "      <th>64</th>\n",
       "      <td>Cambodia</td>\n",
       "      <td>11.550000</td>\n",
       "      <td>104.916700</td>\n",
       "      <td>17079</td>\n",
       "      <td>0</td>\n",
       "      <td>13917</td>\n",
       "      <td>3162</td>\n",
       "    </tr>\n",
       "    <tr>\n",
       "      <th>133</th>\n",
       "      <td>Japan</td>\n",
       "      <td>36.204824</td>\n",
       "      <td>138.252924</td>\n",
       "      <td>1952495</td>\n",
       "      <td>85559</td>\n",
       "      <td>1307911</td>\n",
       "      <td>559025</td>\n",
       "    </tr>\n",
       "    <tr>\n",
       "      <th>166</th>\n",
       "      <td>Kazakhstan</td>\n",
       "      <td>48.019600</td>\n",
       "      <td>66.923700</td>\n",
       "      <td>2430707</td>\n",
       "      <td>14621</td>\n",
       "      <td>1342402</td>\n",
       "      <td>1073684</td>\n",
       "    </tr>\n",
       "    <tr>\n",
       "      <th>44</th>\n",
       "      <td>Colombia</td>\n",
       "      <td>4.570900</td>\n",
       "      <td>-74.297300</td>\n",
       "      <td>6893122</td>\n",
       "      <td>236525</td>\n",
       "      <td>2823811</td>\n",
       "      <td>3832786</td>\n",
       "    </tr>\n",
       "    <tr>\n",
       "      <th>16</th>\n",
       "      <td>Bolivia</td>\n",
       "      <td>-16.290200</td>\n",
       "      <td>-63.588700</td>\n",
       "      <td>2170351</td>\n",
       "      <td>78032</td>\n",
       "      <td>571653</td>\n",
       "      <td>1520666</td>\n",
       "    </tr>\n",
       "  </tbody>\n",
       "</table>\n",
       "</div>"
      ],
      "text/plain": [
       "        country        Lat        Long  Confirmed  Deaths  Recovered   Active\n",
       "64     Cambodia  11.550000  104.916700      17079       0      13917     3162\n",
       "133       Japan  36.204824  138.252924    1952495   85559    1307911   559025\n",
       "166  Kazakhstan  48.019600   66.923700    2430707   14621    1342402  1073684\n",
       "44     Colombia   4.570900  -74.297300    6893122  236525    2823811  3832786\n",
       "16      Bolivia -16.290200  -63.588700    2170351   78032     571653  1520666"
      ]
     },
     "execution_count": 341,
     "metadata": {},
     "output_type": "execute_result"
    }
   ],
   "source": [
    "covid_data.sample(5)"
   ]
  },
  {
   "cell_type": "markdown",
   "id": "5306be64",
   "metadata": {},
   "source": [
    "## Function: get average temperature by country by using web scrapping"
   ]
  },
  {
   "cell_type": "code",
   "execution_count": 342,
   "id": "a03542b5",
   "metadata": {},
   "outputs": [],
   "source": [
    "url = \"https://en.wikipedia.org/wiki/List_of_countries_by_average_yearly_temperature\"\n",
    "html = requests.get(url)\n",
    "soup = bs(html.content,\"html.parser\")"
   ]
  },
  {
   "cell_type": "code",
   "execution_count": 343,
   "id": "d6fc1d6d",
   "metadata": {},
   "outputs": [],
   "source": [
    "tabla_temps=soup.findAll(\"table\")[0]\n"
   ]
  },
  {
   "cell_type": "code",
   "execution_count": 344,
   "id": "0501bac2",
   "metadata": {},
   "outputs": [
    {
     "data": {
      "text/plain": [
       "'Burkina Faso'"
      ]
     },
     "execution_count": 344,
     "metadata": {},
     "output_type": "execute_result"
    }
   ],
   "source": [
    "tabla_temps.findAll('tr') [1].findAll('td')[0].getText().strip()"
   ]
  },
  {
   "cell_type": "code",
   "execution_count": 345,
   "id": "0fca6a04",
   "metadata": {},
   "outputs": [
    {
     "data": {
      "text/plain": [
       "'28.29'"
      ]
     },
     "execution_count": 345,
     "metadata": {},
     "output_type": "execute_result"
    }
   ],
   "source": [
    "tabla_temps.findAll('tr')[1].findAll('td')[1].getText().strip()"
   ]
  },
  {
   "cell_type": "code",
   "execution_count": 274,
   "id": "24848779",
   "metadata": {},
   "outputs": [],
   "source": [
    "def averagetemp(x):\n",
    "    temperature=[]\n",
    "    for f in x.findAll('tr')[1:]: #list with all rows in the table\n",
    "        country = f.findAll('td')[0].getText().strip()\n",
    "        temp = f.findAll('td')[1].getText().strip()\n",
    "\n",
    "        diccionario = {\"country\": country, \"temp\": temp}\n",
    "\n",
    "        temperature.append(diccionario)\n",
    "    avTemp = pd.DataFrame(temperature)\n",
    "    return avTemp"
   ]
  },
  {
   "cell_type": "code",
   "execution_count": 346,
   "id": "96e71c36",
   "metadata": {},
   "outputs": [],
   "source": [
    "temperature=[]\n",
    "for f in tabla_temps.findAll('tr')[1:]: #list with all rows in the table\n",
    "    country = f.findAll('td')[0].getText().strip()\n",
    "    temp = f.findAll('td')[1].getText().strip()\n",
    "    \n",
    "    diccionario = {\"country\": country, \"temp\": temp}\n",
    "    \n",
    "    temperature.append(diccionario)\n",
    "avTemp = pd.DataFrame(temperature)"
   ]
  },
  {
   "cell_type": "code",
   "execution_count": 275,
   "id": "17ab9a06",
   "metadata": {},
   "outputs": [
    {
     "data": {
      "text/html": [
       "<div>\n",
       "<style scoped>\n",
       "    .dataframe tbody tr th:only-of-type {\n",
       "        vertical-align: middle;\n",
       "    }\n",
       "\n",
       "    .dataframe tbody tr th {\n",
       "        vertical-align: top;\n",
       "    }\n",
       "\n",
       "    .dataframe thead th {\n",
       "        text-align: right;\n",
       "    }\n",
       "</style>\n",
       "<table border=\"1\" class=\"dataframe\">\n",
       "  <thead>\n",
       "    <tr style=\"text-align: right;\">\n",
       "      <th></th>\n",
       "      <th>country</th>\n",
       "      <th>temp</th>\n",
       "    </tr>\n",
       "  </thead>\n",
       "  <tbody>\n",
       "    <tr>\n",
       "      <th>0</th>\n",
       "      <td>Burkina Faso</td>\n",
       "      <td>28.29</td>\n",
       "    </tr>\n",
       "    <tr>\n",
       "      <th>1</th>\n",
       "      <td>Mali</td>\n",
       "      <td>28.25</td>\n",
       "    </tr>\n",
       "    <tr>\n",
       "      <th>2</th>\n",
       "      <td>Kiribati</td>\n",
       "      <td>28.20</td>\n",
       "    </tr>\n",
       "    <tr>\n",
       "      <th>3</th>\n",
       "      <td>Djibouti</td>\n",
       "      <td>28.00</td>\n",
       "    </tr>\n",
       "    <tr>\n",
       "      <th>4</th>\n",
       "      <td>Tuvalu</td>\n",
       "      <td>28.00</td>\n",
       "    </tr>\n",
       "  </tbody>\n",
       "</table>\n",
       "</div>"
      ],
      "text/plain": [
       "        country   temp\n",
       "0  Burkina Faso  28.29\n",
       "1          Mali  28.25\n",
       "2      Kiribati  28.20\n",
       "3      Djibouti  28.00\n",
       "4        Tuvalu  28.00"
      ]
     },
     "execution_count": 275,
     "metadata": {},
     "output_type": "execute_result"
    }
   ],
   "source": [
    "avTemp = averagetemp(tabla_temps)\n",
    "avTemp.head()"
   ]
  },
  {
   "cell_type": "markdown",
   "id": "a4e0c55d",
   "metadata": {},
   "source": [
    "## Function: merge both dataframes"
   ]
  },
  {
   "cell_type": "code",
   "execution_count": 347,
   "id": "69a7d794",
   "metadata": {},
   "outputs": [],
   "source": [
    "hyp1=pd.merge(covid_data, avTemp, on=\"country\")\n",
    "hyp1['temp'].replace(to_replace='−0.70',value=-0.7, inplace = True)\n",
    "hyp1['temp'].replace(to_replace='−5.10',value=-5.1, inplace = True)\n",
    "hyp1['temp'].replace(to_replace='−5.35',value=-5.35, inplace = True)\n",
    "hyp1['temp'] = hyp1['temp'].astype(float)"
   ]
  },
  {
   "cell_type": "code",
   "execution_count": 335,
   "id": "72cd5c9c",
   "metadata": {},
   "outputs": [],
   "source": [
    "def merge(x,y):\n",
    "    hyp1=pd.merge(x, y, on=\"country\")\n",
    "    hyp1['temp'].replace(to_replace='−0.70',value=-0.7, inplace = True)\n",
    "    hyp1['temp'].replace(to_replace='−5.10',value=-5.1, inplace = True)\n",
    "    hyp1['temp'].replace(to_replace='−5.35',value=-5.35, inplace = True)\n",
    "    hyp1['temp'] = hyp1['temp'].astype(float)\n",
    "    \n",
    "    return hyp1"
   ]
  },
  {
   "cell_type": "code",
   "execution_count": 348,
   "id": "cc75a53e",
   "metadata": {},
   "outputs": [
    {
     "data": {
      "text/html": [
       "<div>\n",
       "<style scoped>\n",
       "    .dataframe tbody tr th:only-of-type {\n",
       "        vertical-align: middle;\n",
       "    }\n",
       "\n",
       "    .dataframe tbody tr th {\n",
       "        vertical-align: top;\n",
       "    }\n",
       "\n",
       "    .dataframe thead th {\n",
       "        text-align: right;\n",
       "    }\n",
       "</style>\n",
       "<table border=\"1\" class=\"dataframe\">\n",
       "  <thead>\n",
       "    <tr style=\"text-align: right;\">\n",
       "      <th></th>\n",
       "      <th>country</th>\n",
       "      <th>Lat</th>\n",
       "      <th>Long</th>\n",
       "      <th>Confirmed</th>\n",
       "      <th>Deaths</th>\n",
       "      <th>Recovered</th>\n",
       "      <th>Active</th>\n",
       "      <th>temp</th>\n",
       "    </tr>\n",
       "  </thead>\n",
       "  <tbody>\n",
       "    <tr>\n",
       "      <th>0</th>\n",
       "      <td>New Zealand</td>\n",
       "      <td>-40.900600</td>\n",
       "      <td>174.886000</td>\n",
       "      <td>175979</td>\n",
       "      <td>2181</td>\n",
       "      <td>149560</td>\n",
       "      <td>24238</td>\n",
       "      <td>10.55</td>\n",
       "    </tr>\n",
       "    <tr>\n",
       "      <th>1</th>\n",
       "      <td>Argentina</td>\n",
       "      <td>-38.416100</td>\n",
       "      <td>-63.616700</td>\n",
       "      <td>4450658</td>\n",
       "      <td>97749</td>\n",
       "      <td>1680024</td>\n",
       "      <td>2672885</td>\n",
       "      <td>14.80</td>\n",
       "    </tr>\n",
       "    <tr>\n",
       "      <th>2</th>\n",
       "      <td>Chile</td>\n",
       "      <td>-35.675100</td>\n",
       "      <td>-71.543000</td>\n",
       "      <td>16935654</td>\n",
       "      <td>322480</td>\n",
       "      <td>13292593</td>\n",
       "      <td>3320581</td>\n",
       "      <td>8.45</td>\n",
       "    </tr>\n",
       "    <tr>\n",
       "      <th>3</th>\n",
       "      <td>Uruguay</td>\n",
       "      <td>-32.522800</td>\n",
       "      <td>-55.765800</td>\n",
       "      <td>94742</td>\n",
       "      <td>2456</td>\n",
       "      <td>72759</td>\n",
       "      <td>19527</td>\n",
       "      <td>17.55</td>\n",
       "    </tr>\n",
       "    <tr>\n",
       "      <th>4</th>\n",
       "      <td>Australia</td>\n",
       "      <td>-32.106275</td>\n",
       "      <td>141.355488</td>\n",
       "      <td>960247</td>\n",
       "      <td>11387</td>\n",
       "      <td>711928</td>\n",
       "      <td>236932</td>\n",
       "      <td>21.65</td>\n",
       "    </tr>\n",
       "    <tr>\n",
       "      <th>...</th>\n",
       "      <td>...</td>\n",
       "      <td>...</td>\n",
       "      <td>...</td>\n",
       "      <td>...</td>\n",
       "      <td>...</td>\n",
       "      <td>...</td>\n",
       "      <td>...</td>\n",
       "      <td>...</td>\n",
       "    </tr>\n",
       "    <tr>\n",
       "      <th>167</th>\n",
       "      <td>Sweden</td>\n",
       "      <td>60.128161</td>\n",
       "      <td>18.643501</td>\n",
       "      <td>4973160</td>\n",
       "      <td>448913</td>\n",
       "      <td>0</td>\n",
       "      <td>4524247</td>\n",
       "      <td>2.10</td>\n",
       "    </tr>\n",
       "    <tr>\n",
       "      <th>168</th>\n",
       "      <td>Norway</td>\n",
       "      <td>60.472000</td>\n",
       "      <td>8.468900</td>\n",
       "      <td>1008821</td>\n",
       "      <td>25664</td>\n",
       "      <td>544430</td>\n",
       "      <td>438727</td>\n",
       "      <td>1.50</td>\n",
       "    </tr>\n",
       "    <tr>\n",
       "      <th>169</th>\n",
       "      <td>Russia</td>\n",
       "      <td>61.524010</td>\n",
       "      <td>105.318756</td>\n",
       "      <td>45408411</td>\n",
       "      <td>619385</td>\n",
       "      <td>25120448</td>\n",
       "      <td>19668578</td>\n",
       "      <td>-5.10</td>\n",
       "    </tr>\n",
       "    <tr>\n",
       "      <th>170</th>\n",
       "      <td>Finland</td>\n",
       "      <td>61.924110</td>\n",
       "      <td>25.748151</td>\n",
       "      <td>713167</td>\n",
       "      <td>30338</td>\n",
       "      <td>544492</td>\n",
       "      <td>138337</td>\n",
       "      <td>1.70</td>\n",
       "    </tr>\n",
       "    <tr>\n",
       "      <th>171</th>\n",
       "      <td>Iceland</td>\n",
       "      <td>64.963100</td>\n",
       "      <td>-19.020800</td>\n",
       "      <td>221241</td>\n",
       "      <td>1141</td>\n",
       "      <td>190132</td>\n",
       "      <td>29968</td>\n",
       "      <td>1.75</td>\n",
       "    </tr>\n",
       "  </tbody>\n",
       "</table>\n",
       "<p>172 rows × 8 columns</p>\n",
       "</div>"
      ],
      "text/plain": [
       "         country        Lat        Long  Confirmed  Deaths  Recovered  \\\n",
       "0    New Zealand -40.900600  174.886000     175979    2181     149560   \n",
       "1      Argentina -38.416100  -63.616700    4450658   97749    1680024   \n",
       "2          Chile -35.675100  -71.543000   16935654  322480   13292593   \n",
       "3        Uruguay -32.522800  -55.765800      94742    2456      72759   \n",
       "4      Australia -32.106275  141.355488     960247   11387     711928   \n",
       "..           ...        ...         ...        ...     ...        ...   \n",
       "167       Sweden  60.128161   18.643501    4973160  448913          0   \n",
       "168       Norway  60.472000    8.468900    1008821   25664     544430   \n",
       "169       Russia  61.524010  105.318756   45408411  619385   25120448   \n",
       "170      Finland  61.924110   25.748151     713167   30338     544492   \n",
       "171      Iceland  64.963100  -19.020800     221241    1141     190132   \n",
       "\n",
       "       Active   temp  \n",
       "0       24238  10.55  \n",
       "1     2672885  14.80  \n",
       "2     3320581   8.45  \n",
       "3       19527  17.55  \n",
       "4      236932  21.65  \n",
       "..        ...    ...  \n",
       "167   4524247   2.10  \n",
       "168    438727   1.50  \n",
       "169  19668578  -5.10  \n",
       "170    138337   1.70  \n",
       "171     29968   1.75  \n",
       "\n",
       "[172 rows x 8 columns]"
      ]
     },
     "execution_count": 348,
     "metadata": {},
     "output_type": "execute_result"
    }
   ],
   "source": [
    "hyp1"
   ]
  },
  {
   "cell_type": "markdown",
   "id": "eccd97c6",
   "metadata": {},
   "source": [
    "## Function: print results"
   ]
  },
  {
   "cell_type": "code",
   "execution_count": 349,
   "id": "daab20df",
   "metadata": {},
   "outputs": [],
   "source": [
    "\n",
    "sns.set_context(\"poster\")\n",
    "sns.set(rc={\"figure.figsize\": (12.,8.)})\n",
    "sns.set_style(\"whitegrid\")"
   ]
  },
  {
   "cell_type": "code",
   "execution_count": 350,
   "id": "a4551bdd",
   "metadata": {},
   "outputs": [
    {
     "data": {
      "text/plain": [
       "numpy.float64"
      ]
     },
     "execution_count": 350,
     "metadata": {},
     "output_type": "execute_result"
    }
   ],
   "source": [
    "type(hyp1['temp'][4])"
   ]
  },
  {
   "cell_type": "code",
   "execution_count": 351,
   "id": "d13efc6b",
   "metadata": {},
   "outputs": [
    {
     "data": {
      "text/plain": [
       "<AxesSubplot:xlabel='Lat', ylabel='temp'>"
      ]
     },
     "execution_count": 351,
     "metadata": {},
     "output_type": "execute_result"
    },
    {
     "data": {
      "image/png": "[encoded data removed]",
      "text/plain": [
       "<Figure size 864x576 with 1 Axes>"
      ]
     },
     "metadata": {},
     "output_type": "display_data"
    }
   ],
   "source": [
    "sns.barplot(x='Lat', y = 'temp', data=hyp1);"
   ]
  },
  {
   "cell_type": "markdown",
   "id": "cfecfb61",
   "metadata": {},
   "source": [
    "## Function: generate new column for Zone "
   ]
  },
  {
   "cell_type": "code",
   "execution_count": 352,
   "id": "5729452c",
   "metadata": {},
   "outputs": [],
   "source": [
    "Zones = []\n",
    "for l in range(0,len(hyp1['Lat'])):\n",
    "    if hyp1['Lat'][l] < -66.5:\n",
    "        Zones.append('Antarctic')\n",
    "    elif hyp1['Lat'][l] < -23.55:\n",
    "        Zones.append('South Temperate')\n",
    "    elif hyp1['Lat'][l] < 0:\n",
    "        Zones.append('South Tropic')\n",
    "    elif hyp1['Lat'][l] < 23.55:\n",
    "        Zones.append('North Tropic')\n",
    "    elif hyp1['Lat'][l] < 66.5:\n",
    "        Zones.append('North Temperate')\n",
    "    else:\n",
    "        Zones.append('Artic')\n",
    "\n",
    "hyp1['Zones'] = Zones"
   ]
  },
  {
   "cell_type": "code",
   "execution_count": null,
   "id": "f2763570",
   "metadata": {},
   "outputs": [],
   "source": [
    "hyp1['Zones'] = newzones(hyp1['Lat'])"
   ]
  },
  {
   "cell_type": "code",
   "execution_count": 353,
   "id": "3c3b0a4a",
   "metadata": {},
   "outputs": [
    {
     "data": {
      "image/png": "[encoded data removed]",
      "text/plain": [
       "<Figure size 864x576 with 1 Axes>"
      ]
     },
     "metadata": {},
     "output_type": "display_data"
    }
   ],
   "source": [
    "sns.barplot(x='Zones', y = 'temp', data=hyp1);"
   ]
  },
  {
   "cell_type": "markdown",
   "id": "595cb58f",
   "metadata": {},
   "source": [
    "### The 'Confirmed' column does not provide accurate data, because there is a direct relation between tests done and  confirmed cases. Thus, we need the percentage of people tested that have had a positive result. \n",
    "\n",
    "### For this, we are going to call an API"
   ]
  },
  {
   "cell_type": "code",
   "execution_count": 206,
   "id": "4ff2e911",
   "metadata": {},
   "outputs": [],
   "source": [
    "import requests\n",
    "\n",
    "url = \"https://covid-193.p.rapidapi.com/history\"\n",
    "\n",
    "querystring = {\"country\":'Spain',\"day\":\"2020-11-08\"} #Database values are from a year ago\n",
    "\n",
    "headers = {\n",
    "    'x-rapidapi-host': \"covid-193.p.rapidapi.com\",\n",
    "    'x-rapidapi-key': \"c626d6c478msh5f1aa9758ec0e22p1e219ajsn0ed4c7e9c605\"\n",
    "    }\n",
    "\n",
    "response = requests.request(\"GET\", url, headers=headers, params=querystring).json()\n"
   ]
  },
  {
   "cell_type": "code",
   "execution_count": 203,
   "id": "f287ac28",
   "metadata": {},
   "outputs": [
    {
     "data": {
      "text/plain": [
       "18072174"
      ]
     },
     "execution_count": 203,
     "metadata": {},
     "output_type": "execute_result"
    }
   ],
   "source": [
    "response['response'][0]['tests']['total']"
   ]
  },
  {
   "cell_type": "code",
   "execution_count": 133,
   "id": "4e84a7b4",
   "metadata": {},
   "outputs": [
    {
     "data": {
      "text/plain": [
       "46761136"
      ]
     },
     "execution_count": 133,
     "metadata": {},
     "output_type": "execute_result"
    }
   ],
   "source": [
    "response['response'][0]['population']"
   ]
  },
  {
   "cell_type": "code",
   "execution_count": 355,
   "id": "2b28cb24",
   "metadata": {},
   "outputs": [],
   "source": [
    "def poptest(x):\n",
    "    time.sleep(1.1)\n",
    "    url = \"https://covid-193.p.rapidapi.com/history\"\n",
    "\n",
    "    querystring = {f\"country\":{x},\"day\":\"2020-11-08\"} #Database values are from a year ago\n",
    "\n",
    "    headers = {\n",
    "        'x-rapidapi-host': \"covid-193.p.rapidapi.com\",\n",
    "        'x-rapidapi-key': \"c626d6c478msh5f1aa9758ec0e22p1e219ajsn0ed4c7e9c605\"\n",
    "        }\n",
    "\n",
    "    response = requests.request(\"GET\", url, headers=headers, params=querystring).json()\n",
    "    \n",
    "    try:\n",
    "        return (response['response'][0]['population'],response['response'][0]['tests']['total'])\n",
    "        \n",
    "    except:\n",
    "        return ('NaN', 'NaN')\n",
    "    "
   ]
  },
  {
   "cell_type": "code",
   "execution_count": 356,
   "id": "445cfcc5",
   "metadata": {},
   "outputs": [],
   "source": [
    "poputests = hyp1['country'].apply(poptest)"
   ]
  },
  {
   "cell_type": "code",
   "execution_count": 357,
   "id": "9c2d4fcd",
   "metadata": {},
   "outputs": [],
   "source": [
    "lista=list(poputests)"
   ]
  },
  {
   "cell_type": "code",
   "execution_count": 358,
   "id": "d835c729",
   "metadata": {},
   "outputs": [],
   "source": [
    "lista=pd.DataFrame(lista, columns=['Population','Tests'])"
   ]
  },
  {
   "cell_type": "code",
   "execution_count": 359,
   "id": "25f72330",
   "metadata": {},
   "outputs": [],
   "source": [
    "hyp1['Population']=lista['Population']\n",
    "hyp1['Tests']=lista['Tests']"
   ]
  },
  {
   "cell_type": "code",
   "execution_count": 360,
   "id": "44c5bcd9",
   "metadata": {},
   "outputs": [],
   "source": [
    "hyp1['Population'] = hyp1['Population'].astype(float)\n",
    "hyp1['Tests'] = hyp1['Tests'].astype(float)\n",
    "hyp1['Confirmed'] = hyp1['Confirmed'].astype(float)\n",
    "hyp1['Deaths'] = hyp1['Deaths'].astype(float)\n",
    "hyp1['Recovered'] = hyp1['Recovered'].astype(float)\n",
    "hyp1['Active'] = hyp1['Active'].astype(float)"
   ]
  },
  {
   "cell_type": "code",
   "execution_count": 361,
   "id": "19d7767a",
   "metadata": {},
   "outputs": [],
   "source": [
    "hyp1['PositiveRate']=hyp1['Confirmed']/hyp1['Tests']"
   ]
  },
  {
   "cell_type": "code",
   "execution_count": 362,
   "id": "69ff7b37",
   "metadata": {},
   "outputs": [],
   "source": [
    "hyp1['Mortality']=hyp1['Deaths']/hyp1['Confirmed']"
   ]
  },
  {
   "cell_type": "markdown",
   "id": "f4ede84a",
   "metadata": {},
   "source": [
    "## Now we can start visualization "
   ]
  },
  {
   "cell_type": "code",
   "execution_count": 363,
   "id": "0f5c9482",
   "metadata": {},
   "outputs": [],
   "source": [
    "hyp1zones=hyp1.groupby('Zones').mean()"
   ]
  },
  {
   "cell_type": "code",
   "execution_count": 364,
   "id": "d382f0fe",
   "metadata": {},
   "outputs": [],
   "source": [
    "hyp1zones.reset_index(inplace=True)"
   ]
  },
  {
   "cell_type": "code",
   "execution_count": 376,
   "id": "baef331b",
   "metadata": {},
   "outputs": [
    {
     "data": {
      "image/png": "[encoded data removed]",
      "text/plain": [
       "<Figure size 1440x720 with 3 Axes>"
      ]
     },
     "metadata": {},
     "output_type": "display_data"
    }
   ],
   "source": [
    "\n",
    "fig, axs = plt.subplots(nrows=1, ncols=3, figsize=(20,10))\n",
    "sns.barplot(x='Zones', y = 'PositiveRate', data=hyp1zones, ax=axs[1]);\n",
    "sns.barplot(x='Zones', y = 'temp', data=hyp1zones, ax=axs[0]);\n",
    "sns.barplot(x='Zones', y = 'Mortality', data=hyp1zones, ax=axs[2]);\n",
    "fig.savefig('../data/covid_effect_zones.jpg')"
   ]
  },
  {
   "cell_type": "code",
   "execution_count": 377,
   "id": "dd24c43f",
   "metadata": {},
   "outputs": [
    {
     "data": {
      "image/png": "[encoded data removed]",
      "text/plain": [
       "<Figure size 864x576 with 1 Axes>"
      ]
     },
     "metadata": {},
     "output_type": "display_data"
    },
    {
     "data": {
      "image/png": "[encoded data removed]",
      "text/plain": [
       "<Figure size 494.1x360 with 1 Axes>"
      ]
     },
     "metadata": {},
     "output_type": "display_data"
    }
   ],
   "source": [
    "fig, ax = plt.subplots()\n",
    "sns.lmplot(x='Tests',y='Recovered', hue='Zones', data=hyp1)\n",
    "ax.set_xlim(0, 4000000)\n",
    "ax.set_ylim(0,1000000)\n",
    "plt.show()\n",
    "fig.savefig('../data/recovered_rate.jpg')"
   ]
  }
 ],
 "metadata": {
  "kernelspec": {
   "display_name": "ironhack",
   "language": "python",
   "name": "ironhack"
  },
  "language_info": {
   "codemirror_mode": {
    "name": "ipython",
    "version": 3
   },
   "file_extension": ".py",
   "mimetype": "text/x-python",
   "name": "python",
   "nbconvert_exporter": "python",
   "pygments_lexer": "ipython3",
   "version": "3.8.8"
  }
 },
 "nbformat": 4,
 "nbformat_minor": 5
}
